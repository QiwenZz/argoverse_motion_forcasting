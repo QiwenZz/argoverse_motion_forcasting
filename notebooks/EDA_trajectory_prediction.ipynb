{
 "cells": [
  {
   "cell_type": "code",
   "execution_count": 1,
   "metadata": {},
   "outputs": [],
   "source": [
    "# Extract tar.gz file into multiple csv files\n",
    "import tarfile\n",
    "  \n",
    "# open file\n",
    "file = tarfile.open('forecasting_train_v1.1.tar.gz')\n",
    "  \n",
    "# extracting file\n",
    "file.extractall('./Destination_FolderName')\n",
    "  \n",
    "file.close()\n",
    "\n"
   ]
  },
  {
   "cell_type": "code",
   "execution_count": 1,
   "metadata": {},
   "outputs": [],
   "source": [
    "# import packages and libraries\n",
    "import torch\n",
    "from torch.utils.data import Dataset, DataLoader\n",
    "import os, os.path \n",
    "import pickle\n",
    "from glob import glob\n",
    "import itertools\n",
    "from torch.utils.data import Dataset, DataLoader\n",
    "import torch.nn as nn\n",
    "import torch.nn.functional as F\n",
    "import torch.optim as optim\n",
    "from random import *\n",
    "import pandas as pd\n",
    "from sklearn.preprocessing import normalize\n",
    "import matplotlib.pyplot as plt\n",
    "import numpy as np\n",
    "import csv\n",
    "from collections import defaultdict"
   ]
  },
  {
   "cell_type": "markdown",
   "metadata": {},
   "source": [
    "# Exploratory Data Analysis\n",
    "\n",
    "1. There are total number of 205942 csv files in the training dataset\n",
    "2. General Statistics of the training dataset\n",
    "\n",
    "    - There are total of 7753060 unique `TRACK_ID`\n",
    "    - There are three categories of `OBJECT_TYPE` with their corresponding frequencies: OTHERS (155302611), AGENT (10297100), AV (10297100)\n",
    "    - There are two cities in `CITY_NAME`with their corresponding frequencies: PIT (66428725), MIA (109468086)\n",
    "3. Frequency Distribution of total number of timestamps for each track id\n",
    "    - The frequency / Count decreases exponentially as the total number of timestamps increases. \n",
    "    - However, the frequency for bins between 45 - 50 timestamps is high\n",
    "    - Data cleaning is needed to remove `TRACK_ID` with too little total timestamps, and split longer trajectories into multiple smaller one\n",
    "4. Distribution of X\n",
    "    - Total of 175,896,810 entries for X values\n",
    "    - Since the total number is too large to display the distribution visually, we sample 1 million datapoints to plot the frequency distribution\n",
    "    - There is a binomial distribution with one cluster centered at 500, and the other centered at 3000\n",
    "5. Distributino of Y\n",
    "    - Total of 175,896,810 entries for Y values\n",
    "    - Sample 1 million without replacement to plot the frequency distribution\n",
    "    - The distribution is centered around 2000 with smaller frequencies for higher y value\n",
    "6. There is no null value across all csv files\n",
    "7. There is only one agent inside each csv file\n",
    "8. There are total of 50 timestamps for each agent in each csv file"
   ]
  },
  {
   "cell_type": "code",
   "execution_count": 36,
   "metadata": {},
   "outputs": [
    {
     "name": "stdout",
     "output_type": "stream",
     "text": [
      "The total number of csv file is 205942\n"
     ]
    }
   ],
   "source": [
    "# 1. Count the total number of files in the folder\n",
    "count = 0\n",
    "# Iterate directory\n",
    "for path in os.listdir('./train/data/'):\n",
    "      count += 1\n",
    "print('The total number of csv file is '+str(count))"
   ]
  },
  {
   "cell_type": "code",
   "execution_count": 55,
   "metadata": {},
   "outputs": [
    {
     "name": "stdout",
     "output_type": "stream",
     "text": [
      "0\n",
      "1000\n",
      "2000\n",
      "3000\n",
      "4000\n",
      "5000\n",
      "6000\n",
      "7000\n",
      "8000\n",
      "9000\n",
      "10000\n",
      "11000\n",
      "12000\n",
      "13000\n",
      "14000\n",
      "15000\n",
      "16000\n",
      "17000\n",
      "18000\n",
      "19000\n",
      "20000\n",
      "21000\n",
      "22000\n",
      "23000\n",
      "24000\n",
      "25000\n",
      "26000\n",
      "27000\n",
      "28000\n",
      "29000\n",
      "30000\n",
      "31000\n",
      "32000\n",
      "33000\n",
      "34000\n",
      "35000\n",
      "36000\n",
      "37000\n",
      "38000\n",
      "39000\n",
      "40000\n",
      "41000\n",
      "42000\n",
      "43000\n",
      "44000\n",
      "45000\n",
      "46000\n",
      "47000\n",
      "48000\n",
      "49000\n",
      "50000\n",
      "51000\n",
      "52000\n",
      "53000\n",
      "54000\n",
      "55000\n",
      "56000\n",
      "57000\n",
      "58000\n",
      "59000\n",
      "60000\n",
      "61000\n",
      "62000\n",
      "63000\n",
      "64000\n",
      "65000\n",
      "66000\n",
      "67000\n",
      "68000\n",
      "69000\n",
      "70000\n",
      "71000\n",
      "72000\n",
      "73000\n",
      "74000\n",
      "75000\n",
      "76000\n",
      "77000\n",
      "78000\n",
      "79000\n",
      "80000\n",
      "81000\n",
      "82000\n",
      "83000\n",
      "84000\n",
      "85000\n",
      "86000\n",
      "87000\n",
      "88000\n",
      "89000\n",
      "90000\n",
      "91000\n",
      "92000\n",
      "93000\n",
      "94000\n",
      "95000\n",
      "96000\n",
      "97000\n",
      "98000\n",
      "99000\n",
      "100000\n",
      "101000\n",
      "102000\n",
      "103000\n",
      "104000\n",
      "105000\n",
      "106000\n",
      "107000\n",
      "108000\n",
      "109000\n",
      "110000\n",
      "111000\n",
      "112000\n",
      "113000\n",
      "114000\n",
      "115000\n",
      "116000\n",
      "117000\n",
      "118000\n",
      "119000\n",
      "120000\n",
      "121000\n",
      "122000\n",
      "123000\n",
      "124000\n",
      "125000\n",
      "126000\n",
      "127000\n",
      "128000\n",
      "129000\n",
      "130000\n",
      "131000\n",
      "132000\n",
      "133000\n",
      "134000\n",
      "135000\n",
      "136000\n",
      "137000\n",
      "138000\n",
      "139000\n",
      "140000\n",
      "141000\n",
      "142000\n",
      "143000\n",
      "144000\n",
      "145000\n",
      "146000\n",
      "147000\n",
      "148000\n",
      "149000\n",
      "150000\n",
      "151000\n",
      "152000\n",
      "153000\n",
      "154000\n",
      "155000\n",
      "156000\n",
      "157000\n",
      "158000\n",
      "159000\n",
      "160000\n",
      "161000\n",
      "162000\n",
      "163000\n",
      "164000\n",
      "165000\n",
      "166000\n",
      "167000\n",
      "168000\n",
      "169000\n",
      "170000\n",
      "171000\n",
      "172000\n",
      "173000\n",
      "174000\n",
      "175000\n",
      "176000\n",
      "177000\n",
      "178000\n",
      "179000\n",
      "180000\n",
      "181000\n",
      "182000\n",
      "183000\n",
      "184000\n",
      "185000\n",
      "186000\n",
      "187000\n",
      "188000\n",
      "189000\n",
      "190000\n",
      "191000\n",
      "192000\n",
      "193000\n",
      "194000\n",
      "195000\n",
      "196000\n",
      "197000\n",
      "198000\n",
      "199000\n",
      "200000\n",
      "201000\n",
      "202000\n",
      "203000\n",
      "204000\n",
      "205000\n"
     ]
    }
   ],
   "source": [
    "csv_files = glob(os.path.join('./train/data/', \"*.csv\"))\n",
    " \n",
    "# Defining the dict\n",
    "objects_dict = defaultdict(lambda: 0)\n",
    "cities_dict = defaultdict(lambda: 0)\n",
    "agents_dict = defaultdict(lambda: 0)\n",
    "timestamps_dict = defaultdict(lambda: 0)\n",
    "\n",
    "track_count = 0\n",
    "count = 0\n",
    "\n",
    "# Merge the value of two dictionaries\n",
    "def merge_dict(dict1, dict2): \n",
    "    for item in list(dict2.keys()):\n",
    "        dict1[item] += dict2[item]\n",
    "        \n",
    "    \n",
    "# Create csv files to store EDA values in case of memory issue\n",
    "# And write the column names for each csv file\n",
    "with open('./train/tracks.csv', 'w') as tracks, open('./train/xs.csv', 'w') as xs, open('./train/ys.csv', 'w') as ys:\n",
    "    write = csv.writer(tracks)\n",
    "    write.writerows(['ids', 'count'])\n",
    "    \n",
    "    write = csv.writer(xs)\n",
    "    write.writerows(['index', 'x'])\n",
    "    \n",
    "    write = csv.writer(ys)\n",
    "    write.writerows(['index', 'y'])\n",
    "    \n",
    "\n",
    "# Calculate General Statistics\n",
    "count = 0\n",
    "with open('./train/tracks.csv', 'a') as tracks, open('./train/xs.csv', 'a') as xs, open('./train/ys.csv', 'a') as ys:\n",
    "    \n",
    "    for f in csv_files:\n",
    "        # read the csv file\n",
    "        df = pd.read_csv(f)\n",
    "\n",
    "        # Calculate null values for all csv files\n",
    "        null += df.isnull().sum()\n",
    "        \n",
    "        # Count total number of unique track_id across all files\n",
    "        # Count total number of timestamps for each unique track_id across all files, store into csv file\n",
    "        track = df['TRACK_ID'].value_counts()\n",
    "        track_count += track.shape[0]\n",
    "        track.to_csv(tracks, header=False)\n",
    "\n",
    "        # Count the unique object types and their frequencies\n",
    "        objec = df['OBJECT_TYPE'].value_counts().to_dict()\n",
    "        merge_dict(objects_dict, objec)\n",
    "        \n",
    "        # Count the unique cities and their frequencies\n",
    "        city = df['CITY_NAME'].value_counts().to_dict()\n",
    "        merge_dict(cities_dict, city)\n",
    "        \n",
    "        # Append X values into csv file\n",
    "        df['X'].to_csv(xs, header=False)\n",
    "        \n",
    "        # Append Y values into csv file\n",
    "        df['Y'].to_csv(ys, header=False)\n",
    "        \n",
    "        # Count number of AGENT in a csv file\n",
    "        agent_df = df.loc[df['OBJECT_TYPE'] == 'AGENT'].groupby('TRACK_ID')['X'].count()\n",
    "        agent = agent_df.shape[0]\n",
    "        agents_dict[agent] += 1\n",
    "\n",
    "        # Count number of timestamps for each AGENT in a csv file\n",
    "        for item in agent_df:\n",
    "            timestamps_dict[item] += 1\n",
    "        \n",
    "\n",
    "        # Track progress\n",
    "        if count % 1000 == 0: \n",
    "            print(count)\n",
    "        count += 1\n"
   ]
  },
  {
   "cell_type": "code",
   "execution_count": 39,
   "metadata": {},
   "outputs": [
    {
     "name": "stdout",
     "output_type": "stream",
     "text": [
      "There are total of 7753060 unique track id\n"
     ]
    }
   ],
   "source": [
    "# 2a. Total number of track_id\n",
    "print('There are total of '+str(track_count)+' unique track id')"
   ]
  },
  {
   "cell_type": "code",
   "execution_count": 14,
   "metadata": {},
   "outputs": [
    {
     "data": {
      "text/plain": [
       "defaultdict(<function __main__.<lambda>()>,\n",
       "            {'OTHERS': 155302611, 'AGENT': 10297100, 'AV': 10297100})"
      ]
     },
     "execution_count": 14,
     "metadata": {},
     "output_type": "execute_result"
    }
   ],
   "source": [
    "# 2b. Object Type Summary\n",
    "objects_dict"
   ]
  },
  {
   "cell_type": "code",
   "execution_count": 15,
   "metadata": {},
   "outputs": [
    {
     "data": {
      "text/plain": [
       "defaultdict(<function __main__.<lambda>()>,\n",
       "            {'PIT': 66428725, 'MIA': 109468086})"
      ]
     },
     "execution_count": 15,
     "metadata": {},
     "output_type": "execute_result"
    }
   ],
   "source": [
    "# 2c. City Summary\n",
    "cities_dict"
   ]
  },
  {
   "cell_type": "code",
   "execution_count": 27,
   "metadata": {},
   "outputs": [
    {
     "data": {
      "text/plain": [
       "Text(0, 0.5, 'Frequency')"
      ]
     },
     "execution_count": 27,
     "metadata": {},
     "output_type": "execute_result"
    },
    {
     "data": {
      "image/png": "[encoded data removed]",
      "text/plain": [
       "<Figure size 432x288 with 1 Axes>"
      ]
     },
     "metadata": {
      "needs_background": "light"
     },
     "output_type": "display_data"
    }
   ],
   "source": [
    "# 3. Frequency Distribution of Total Number of Timestamps\n",
    "track_ids = pd.read_csv('./train/tracks.csv')\n",
    "#track_ids.rename(columns = {'00000000-0000-0000-0000-000000070303':'ids', '50':'count'}, inplace = True)\n",
    "plt.hist(list(track_ids['count']))\n",
    "plt.title('Frequency Distribution for Total Number of Timestamps per Agent')\n",
    "plt.xlabel('Number of Timestamps')\n",
    "plt.ylabel('Frequency')"
   ]
  },
  {
   "cell_type": "code",
   "execution_count": 41,
   "metadata": {},
   "outputs": [
    {
     "data": {
      "text/plain": [
       "Text(0, 0.5, 'Frequency')"
      ]
     },
     "execution_count": 41,
     "metadata": {},
     "output_type": "execute_result"
    },
    {
     "data": {
      "image/png": "[encoded data removed]",
      "text/plain": [
       "<Figure size 432x288 with 1 Axes>"
      ]
     },
     "metadata": {
      "needs_background": "light"
     },
     "output_type": "display_data"
    }
   ],
   "source": [
    "# 4. Distribution of X with 175896810 entries\n",
    "xvalue = pd.read_csv('./train/xs.csv')\n",
    "xvalue.rename(columns = {'0':'index', '2661.0156381377387':'x'}, inplace = True)\n",
    "xsample = xvalue.sample(n = 1000000, replace = False)\n",
    "ax = xsample['x'].plot(kind='hist')\n",
    "ax.set_title('Frequency Distribution for X value')\n",
    "ax.set_xlabel('Value of X')\n",
    "ax.set_ylabel('Frequency')"
   ]
  },
  {
   "cell_type": "code",
   "execution_count": 4,
   "metadata": {},
   "outputs": [
    {
     "data": {
      "text/plain": [
       "Text(0, 0.5, 'Frequency')"
      ]
     },
     "execution_count": 4,
     "metadata": {},
     "output_type": "execute_result"
    },
    {
     "data": {
      "image/png": "[encoded data removed]",
      "text/plain": [
       "<Figure size 432x288 with 1 Axes>"
      ]
     },
     "metadata": {
      "needs_background": "light"
     },
     "output_type": "display_data"
    }
   ],
   "source": [
    "# 5. Distribution of Y with 175896810 entries\n",
    "yvalue = pd.read_csv('./train/ys.csv')\n",
    "yvalue.rename(columns = {'0':'index', '1145.753051913686':'y'}, inplace = True)\n",
    "ysample = yvalue.sample(n = 1000000, replace = False)\n",
    "ax = ysample['y'].plot(kind='hist')\n",
    "ax.set_title('Frequency Distribution for Y value')\n",
    "ax.set_xlabel('Value of Y')\n",
    "ax.set_ylabel('Frequency')"
   ]
  },
  {
   "cell_type": "code",
   "execution_count": 10,
   "metadata": {},
   "outputs": [
    {
     "data": {
      "text/plain": [
       "TIMESTAMP      0\n",
       "TRACK_ID       0\n",
       "OBJECT_TYPE    0\n",
       "X              0\n",
       "Y              0\n",
       "CITY_NAME      0\n",
       "dtype: int64"
      ]
     },
     "execution_count": 10,
     "metadata": {},
     "output_type": "execute_result"
    }
   ],
   "source": [
    "# 6. Null Value\n",
    "null"
   ]
  },
  {
   "cell_type": "code",
   "execution_count": 18,
   "metadata": {},
   "outputs": [
    {
     "data": {
      "text/plain": [
       "defaultdict(<function __main__.<lambda>()>, {1: 205942})"
      ]
     },
     "execution_count": 18,
     "metadata": {},
     "output_type": "execute_result"
    }
   ],
   "source": [
    "# 7. Number of Agent in a csv file\n",
    "agents_dict"
   ]
  },
  {
   "cell_type": "code",
   "execution_count": 19,
   "metadata": {},
   "outputs": [
    {
     "data": {
      "text/plain": [
       "defaultdict(<function __main__.<lambda>()>, {50: 205942})"
      ]
     },
     "execution_count": 19,
     "metadata": {},
     "output_type": "execute_result"
    }
   ],
   "source": [
    "# 8. Number of timestamps for each AGENT in a csv file\n",
    "timestamps_dict"
   ]
  }
 ],
 "metadata": {
  "kernelspec": {
   "display_name": "Python 3",
   "language": "python",
   "name": "python3"
  },
  "language_info": {
   "codemirror_mode": {
    "name": "ipython",
    "version": 3
   },
   "file_extension": ".py",
   "mimetype": "text/x-python",
   "name": "python",
   "nbconvert_exporter": "python",
   "pygments_lexer": "ipython3",
   "version": "3.7.4"
  }
 },
 "nbformat": 4,
 "nbformat_minor": 4
}
